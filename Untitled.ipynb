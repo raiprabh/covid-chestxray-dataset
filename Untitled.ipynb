{
 "cells": [
  {
   "cell_type": "code",
   "execution_count": 35,
   "metadata": {},
   "outputs": [],
   "source": [
    "import pandas as pd\n",
    "import numpy as np\n",
    "from shutil import copyfile"
   ]
  },
  {
   "cell_type": "code",
   "execution_count": 36,
   "metadata": {},
   "outputs": [],
   "source": [
    "df = pd.read_csv(\"./metadata.csv\")"
   ]
  },
  {
   "cell_type": "code",
   "execution_count": 37,
   "metadata": {},
   "outputs": [
    {
     "data": {
      "text/plain": [
       "array(['COVID-19', 'ARDS', 'SARS', 'Pneumocystis', 'Streptococcus',\n",
       "       'No Finding', 'Chlamydophila', 'E.Coli', 'COVID-19, ARDS',\n",
       "       'Klebsiella', 'Legionella'], dtype=object)"
      ]
     },
     "execution_count": 37,
     "metadata": {},
     "output_type": "execute_result"
    }
   ],
   "source": [
    "df['finding'].unique()"
   ]
  },
  {
   "cell_type": "code",
   "execution_count": 39,
   "metadata": {},
   "outputs": [
    {
     "name": "stdout",
     "output_type": "stream",
     "text": [
      "Error occurred in positive example\n",
      "[Errno 2] No such file or directory: './images/radiopaedia_org_covid-19-pneumonia-7_85703_0-dcm.nii.gz'\n",
      "Error occurred in positive example\n",
      "[Errno 2] No such file or directory: './images/radiopaedia_org_covid-19-pneumonia-14_85914_0-dcm.nii.gz'\n",
      "Error occurred in positive example\n",
      "[Errno 2] No such file or directory: './images/coronacases_org_001.nii.gz'\n",
      "Error occurred in positive example\n",
      "[Errno 2] No such file or directory: './images/coronacases_org_002.nii.gz'\n",
      "Error occurred in positive example\n",
      "[Errno 2] No such file or directory: './images/coronacases_org_003.nii.gz'\n",
      "Error occurred in positive example\n",
      "[Errno 2] No such file or directory: './images/coronacases_org_004.nii.gz'\n",
      "Error occurred in positive example\n",
      "[Errno 2] No such file or directory: './images/coronacases_org_005.nii.gz'\n",
      "Error occurred in positive example\n",
      "[Errno 2] No such file or directory: './images/coronacases_org_006.nii.gz'\n",
      "Error occurred in positive example\n",
      "[Errno 2] No such file or directory: './images/coronacases_org_007.nii.gz'\n",
      "Error occurred in positive example\n",
      "[Errno 2] No such file or directory: './images/coronacases_org_008.nii.gz'\n",
      "Error occurred in positive example\n",
      "[Errno 2] No such file or directory: './images/coronacases_org_009.nii.gz'\n",
      "Error occurred in positive example\n",
      "[Errno 2] No such file or directory: './images/coronacases_org_010.nii.gz'\n",
      "Error occurred in positive example\n",
      "[Errno 2] No such file or directory: './images/radiopaedia_org_covid-19-pneumonia-4_85506_1-dcm.nii.gz'\n",
      "Error occurred in positive example\n",
      "[Errno 2] No such file or directory: './images/radiopaedia_org_covid-19-pneumonia-29_86490_1-dcm.nii.gz'\n",
      "Error occurred in positive example\n",
      "[Errno 2] No such file or directory: './images/radiopaedia_org_covid-19-pneumonia-29_86491_1-dcm.nii.gz'\n",
      "Error occurred in positive example\n",
      "[Errno 2] No such file or directory: './images/radiopaedia_org_covid-19-pneumonia-23_86359_0-dcm.nii.gz'\n",
      "Error occurred in positive example\n",
      "[Errno 2] No such file or directory: './images/radiopaedia_org_covid-19-pneumonia-10_85902_1-dcm.nii.gz'\n",
      "Error occurred in positive example\n",
      "[Errno 2] No such file or directory: './images/radiopaedia_org_covid-19-pneumonia-10_85902_3-dcm.nii.gz'\n",
      "Error occurred in positive example\n",
      "[Errno 2] No such file or directory: './images/radiopaedia_org_covid-19-pneumonia-36_86526_0-dcm.nii.gz'\n",
      "Error occurred in positive example\n",
      "[Errno 2] No such file or directory: './images/radiopaedia_org_covid-19-pneumonia-27_86410_0-dcm.nii.gz'\n",
      "Error occurred in positive example\n",
      "[Errno 2] No such file or directory: './images/radiopaedia_org_covid-19-pneumonia-40_86625_0-dcm.nii.gz'\n"
     ]
    }
   ],
   "source": [
    "input_directory = './images/'\n",
    "output_positive_directory = './images/positive/'\n",
    "output_negative_directory = './images/negative/'\n",
    "for index, row in df.iterrows():\n",
    "    if row['finding'] in ['COVID-19', 'COVID-19, ARDS']:\n",
    "        try:\n",
    "            copyfile(input_directory + row['filename'], output_positive_directory + row['filename'])\n",
    "        except IOError as e:\n",
    "            print('Error occurred in positive example')\n",
    "            print(e)\n",
    "    else:\n",
    "        try:\n",
    "            copyfile(input_directory + row['filename'], output_negative_directory + row['filename'])\n",
    "        except IOError as e:\n",
    "            print('Error occurred in negative example')\n",
    "            print(e)"
   ]
  },
  {
   "cell_type": "code",
   "execution_count": null,
   "metadata": {},
   "outputs": [],
   "source": []
  }
 ],
 "metadata": {
  "kernelspec": {
   "display_name": "Python (ML)",
   "language": "python",
   "name": "machine-learning"
  },
  "language_info": {
   "codemirror_mode": {
    "name": "ipython",
    "version": 3
   },
   "file_extension": ".py",
   "mimetype": "text/x-python",
   "name": "python",
   "nbconvert_exporter": "python",
   "pygments_lexer": "ipython3",
   "version": "3.6.8"
  }
 },
 "nbformat": 4,
 "nbformat_minor": 2
}
